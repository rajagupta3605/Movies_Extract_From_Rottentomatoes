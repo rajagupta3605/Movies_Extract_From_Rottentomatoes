{
  "nbformat": 4,
  "nbformat_minor": 0,
  "metadata": {
    "colab": {
      "provenance": [],
      "authorship_tag": "ABX9TyOLiAesuoG3f/3NYj+fsKpg",
      "include_colab_link": true
    },
    "kernelspec": {
      "name": "python3",
      "display_name": "Python 3"
    },
    "language_info": {
      "name": "python"
    }
  },
  "cells": [
    {
      "cell_type": "markdown",
      "metadata": {
        "id": "view-in-github",
        "colab_type": "text"
      },
      "source": [
        "<a href=\"https://colab.research.google.com/github/rajagupta3605/Movies_Extract_from_rottenTomatoes/blob/main/Movies_Extract_from_rottentomatoes.ipynb\" target=\"_parent\"><img src=\"https://colab.research.google.com/assets/colab-badge.svg\" alt=\"Open In Colab\"/></a>"
      ]
    },
    {
      "cell_type": "code",
      "execution_count": 1,
      "metadata": {
        "id": "pj_nyek6O_Fg"
      },
      "outputs": [],
      "source": [
        "from bs4 import BeautifulSoup\n",
        "import requests, openpyxl\n",
        "import re"
      ]
    },
    {
      "cell_type": "code",
      "source": [],
      "metadata": {
        "id": "5oLH8ZChV16n"
      },
      "execution_count": 2,
      "outputs": []
    },
    {
      "cell_type": "code",
      "source": [
        "def fetch_movies_data():\n",
        "  try:\n",
        "    source = requests.get(\"https://www.rottentomatoes.com/browse/movies_at_home/sort:popular\")\n",
        "    source.raise_for_status()\n",
        "\n",
        "    soup = BeautifulSoup(source.text, \"html.parser\")\n",
        "    movies_container = soup.find('div',class_=\"discovery-tiles\")\n",
        "    movies = movies_container.find_all('div',class_=\"flex-container\")\n",
        "    #print(len(movies))\n",
        "\n",
        "    movies_data=[]\n",
        "    for movie in movies:\n",
        "      name = movie.find('span',class_=\"p--small\").text.strip()\n",
        "      year = movie.find('span', class_=\"smaller\").text.strip()[-4:]\n",
        "      movies_data.append([name,year])\n",
        "      # print(name)\n",
        "      # print(year)\n",
        "    return movies_data\n",
        "\n",
        "  except requests.exceptions.RequestException as e:\n",
        "    print(\"Error fetching data:\",e)\n",
        "    return None\n",
        "\n",
        "def save_movies_to_excel(movies_data):\n",
        "  workbook = openpyxl.Workbook()\n",
        "  sheet = workbook.active\n",
        "  sheet.title = 'Top Rated Movies'\n",
        "  sheet.append(['Movies_name','Releasing Year'])\n",
        "  for name,year in movies_data:\n",
        "    sheet.append([name,year])\n",
        "\n",
        "  workbook.save('Rotten_Tomatoes_movies_rated.xlsx')\n",
        "\n",
        "if __name__ == \"__main__\":\n",
        "  movies_data = fetch_movies_data()\n",
        "  if movies_data:\n",
        "    save_movies_to_excel(movies_data)"
      ],
      "metadata": {
        "id": "ocXc2Uy4eOlf"
      },
      "execution_count": 5,
      "outputs": []
    }
  ]
}